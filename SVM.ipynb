{
 "cells": [
  {
   "cell_type": "markdown",
   "metadata": {},
   "source": [
    "# Support Vector Machine"
   ]
  },
  {
   "cell_type": "markdown",
   "metadata": {},
   "source": [
    "## - - - - - - - - - - - - - - - - - - - - - - - - - - "
   ]
  },
  {
   "cell_type": "markdown",
   "metadata": {},
   "source": [
    "###  * Support Vector Machine is a machine learning algorithm which can be used for classification or regression problems,The SVM classifier is a frontier which best segregates the two classes with the help of hyper-plane. It uses a subset of training points in the decision function (called support vectors), so it is memory efficient.\n",
    "\n",
    "### * Here, for the problem statement we are supposed to predict customers who are eligible for loan amount and these customers are targeted. The solution uses SVM for the regression purpose for the problem. \n",
    "\n",
    "### * The linear Support Vector classifier used here works by drawing a straight line between two classes.The objective of a Linear SVC (Support Vector Classifier) is to fit to the data you provide, returning a \"best fit\" hyperplane that divides, or categorizes, your data. From there, after getting the hyperplane, you can then feed some features to your classifier to see what the \"predicted\" class is.\n",
    "\n",
    "## The file used here are:\n",
    "  ### 1. trainSVM.csv  : Contain the data for training the model.\n",
    "  ### 2. testSVM.csv   : Contain the data for testing the model.\n",
    "  ### 3. predicted.csv  : Contain correctly predicted data."
   ]
  },
  {
   "cell_type": "markdown",
   "metadata": {},
   "source": [
    "### * Importing all required libraries."
   ]
  },
  {
   "cell_type": "code",
   "execution_count": 29,
   "metadata": {},
   "outputs": [],
   "source": [
    "from sklearn import svm\n",
    "import pandas as pd\n",
    "from sklearn.metrics import accuracy_score\n",
    "import warnings\n",
    "warnings.filterwarnings('ignore')"
   ]
  },
  {
   "cell_type": "markdown",
   "metadata": {},
   "source": [
    "### * Loading Train and Test datasets"
   ]
  },
  {
   "cell_type": "code",
   "execution_count": 30,
   "metadata": {},
   "outputs": [],
   "source": [
    "train=pd.read_csv('trainSVM.csv')\n",
    "train_y=train['Loan_Status']\n",
    "train_x=train.drop([\"Loan_Status\"],axis=1)"
   ]
  },
  {
   "cell_type": "code",
   "execution_count": 31,
   "metadata": {},
   "outputs": [],
   "source": [
    "test=pd.read_csv('testSVM.csv')\n",
    "test_y=test['Loan_Status']\n",
    "test_x=test.drop([\"Loan_Status\"],axis=1)"
   ]
  },
  {
   "cell_type": "markdown",
   "metadata": {},
   "source": [
    "### * Create Linear SVM object"
   ]
  },
  {
   "cell_type": "code",
   "execution_count": 32,
   "metadata": {},
   "outputs": [],
   "source": [
    "Model = svm.SVC(random_state=21)"
   ]
  },
  {
   "cell_type": "markdown",
   "metadata": {},
   "source": [
    "### * Train the model using the training sets and check accuracy score on test dataset "
   ]
  },
  {
   "cell_type": "code",
   "execution_count": 33,
   "metadata": {},
   "outputs": [
    {
     "name": "stdout",
     "output_type": "stream",
     "text": [
      "Your Model Accuracy is 0.6949152542372882\n"
     ]
    }
   ],
   "source": [
    "Model.fit(train_x, train_y)\n",
    "predicted= Model.predict(test_x)\n",
    "score=accuracy_score(test_y,predicted)\n",
    "print(\"Your Model Accuracy is\", score)\n",
    "train.to_csv( \"predicted.csv\")"
   ]
  }
 ],
 "metadata": {
  "kernelspec": {
   "display_name": "Python 3",
   "language": "python",
   "name": "python3"
  },
  "language_info": {
   "codemirror_mode": {
    "name": "ipython",
    "version": 3
   },
   "file_extension": ".py",
   "mimetype": "text/x-python",
   "name": "python",
   "nbconvert_exporter": "python",
   "pygments_lexer": "ipython3",
   "version": "3.8.3"
  }
 },
 "nbformat": 4,
 "nbformat_minor": 4
}
